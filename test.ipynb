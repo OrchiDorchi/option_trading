{
 "cells": [
  {
   "cell_type": "code",
   "execution_count": 1,
   "metadata": {},
   "outputs": [],
   "source": [
    "import numpy as np\n",
    "import pandas as pd"
   ]
  },
  {
   "cell_type": "code",
   "execution_count": 2,
   "metadata": {},
   "outputs": [
    {
     "data": {
      "text/html": [
       "<div>\n",
       "<style scoped>\n",
       "    .dataframe tbody tr th:only-of-type {\n",
       "        vertical-align: middle;\n",
       "    }\n",
       "\n",
       "    .dataframe tbody tr th {\n",
       "        vertical-align: top;\n",
       "    }\n",
       "\n",
       "    .dataframe thead th {\n",
       "        text-align: right;\n",
       "    }\n",
       "</style>\n",
       "<table border=\"1\" class=\"dataframe\">\n",
       "  <thead>\n",
       "    <tr style=\"text-align: right;\">\n",
       "      <th></th>\n",
       "      <th>Equity</th>\n",
       "    </tr>\n",
       "    <tr>\n",
       "      <th>Date</th>\n",
       "      <th></th>\n",
       "    </tr>\n",
       "  </thead>\n",
       "  <tbody>\n",
       "    <tr>\n",
       "      <th>2018-07-20</th>\n",
       "      <td>5000.00</td>\n",
       "    </tr>\n",
       "    <tr>\n",
       "      <th>2018-07-23</th>\n",
       "      <td>5001.30</td>\n",
       "    </tr>\n",
       "    <tr>\n",
       "      <th>2018-07-24</th>\n",
       "      <td>5009.00</td>\n",
       "    </tr>\n",
       "    <tr>\n",
       "      <th>2018-07-25</th>\n",
       "      <td>5028.88</td>\n",
       "    </tr>\n",
       "    <tr>\n",
       "      <th>2018-07-26</th>\n",
       "      <td>5028.88</td>\n",
       "    </tr>\n",
       "    <tr>\n",
       "      <th>...</th>\n",
       "      <td>...</td>\n",
       "    </tr>\n",
       "    <tr>\n",
       "      <th>2022-06-22</th>\n",
       "      <td>5889.48</td>\n",
       "    </tr>\n",
       "    <tr>\n",
       "      <th>2022-06-23</th>\n",
       "      <td>5877.03</td>\n",
       "    </tr>\n",
       "    <tr>\n",
       "      <th>2022-06-27</th>\n",
       "      <td>5883.19</td>\n",
       "    </tr>\n",
       "    <tr>\n",
       "      <th>2022-06-28</th>\n",
       "      <td>5886.45</td>\n",
       "    </tr>\n",
       "    <tr>\n",
       "      <th>2022-06-29</th>\n",
       "      <td>5886.93</td>\n",
       "    </tr>\n",
       "  </tbody>\n",
       "</table>\n",
       "<p>906 rows × 1 columns</p>\n",
       "</div>"
      ],
      "text/plain": [
       "             Equity\n",
       "Date               \n",
       "2018-07-20  5000.00\n",
       "2018-07-23  5001.30\n",
       "2018-07-24  5009.00\n",
       "2018-07-25  5028.88\n",
       "2018-07-26  5028.88\n",
       "...             ...\n",
       "2022-06-22  5889.48\n",
       "2022-06-23  5877.03\n",
       "2022-06-27  5883.19\n",
       "2022-06-28  5886.45\n",
       "2022-06-29  5886.93\n",
       "\n",
       "[906 rows x 1 columns]"
      ]
     },
     "execution_count": 2,
     "metadata": {},
     "output_type": "execute_result"
    }
   ],
   "source": [
    "df = pd.read_csv('analytics.csv')\n",
    "df = df.drop(['change_in_pnl'],axis=1)\n",
    "df['Equity'] = df['Equity'] +5000\n",
    "df.set_index('Date',inplace=True)\n",
    "df"
   ]
  },
  {
   "cell_type": "code",
   "execution_count": 3,
   "metadata": {},
   "outputs": [],
   "source": [
    "def calculate_portfolio_return(df):\n",
    "    initial_equity = df['Equity'].iloc[0]\n",
    "    final_equity = df['Equity'].iloc[-1]\n",
    "    return (final_equity - initial_equity) / initial_equity\n",
    "\n",
    "def calculate_portfolio_volatility(df):\n",
    "    return df['Equity'].pct_change().std()\n",
    "\n",
    "def calculate_portfolio_sharpe_ratio(df):\n",
    "    portfolio_return = calculate_portfolio_return(df)\n",
    "    portfolio_volatility = calculate_portfolio_volatility(df)\n",
    "    return portfolio_return / portfolio_volatility\n",
    "\n",
    "def calculate_portfolio_drawdown(df):\n",
    "    equity_values = df['Equity'].values\n",
    "    previous_peaks = np.maximum.accumulate(equity_values)\n",
    "    drawdowns = (equity_values - previous_peaks) / previous_peaks\n",
    "    return np.min(drawdowns)\n",
    "\n",
    "def calculate_portfolio_maximum_drawdown(df):\n",
    "    equity_values = df['Equity'].values\n",
    "    previous_peaks = np.maximum.accumulate(equity_values)\n",
    "    drawdowns = (equity_values - previous_peaks) / previous_peaks\n",
    "    return np.max(drawdowns)"
   ]
  },
  {
   "cell_type": "code",
   "execution_count": 4,
   "metadata": {},
   "outputs": [
    {
     "data": {
      "text/plain": [
       "0.17738600000000007"
      ]
     },
     "execution_count": 4,
     "metadata": {},
     "output_type": "execute_result"
    }
   ],
   "source": [
    "calculate_portfolio_return(df)"
   ]
  },
  {
   "cell_type": "code",
   "execution_count": 5,
   "metadata": {},
   "outputs": [
    {
     "data": {
      "text/plain": [
       "0.0030712690746565103"
      ]
     },
     "execution_count": 5,
     "metadata": {},
     "output_type": "execute_result"
    }
   ],
   "source": [
    "calculate_portfolio_volatility(df)"
   ]
  },
  {
   "cell_type": "code",
   "execution_count": 6,
   "metadata": {},
   "outputs": [
    {
     "data": {
      "text/plain": [
       "57.75658064731397"
      ]
     },
     "execution_count": 6,
     "metadata": {},
     "output_type": "execute_result"
    }
   ],
   "source": [
    "calculate_portfolio_sharpe_ratio(df)"
   ]
  },
  {
   "cell_type": "code",
   "execution_count": 7,
   "metadata": {},
   "outputs": [
    {
     "data": {
      "text/plain": [
       "-0.038775880708721434"
      ]
     },
     "execution_count": 7,
     "metadata": {},
     "output_type": "execute_result"
    }
   ],
   "source": [
    "calculate_portfolio_drawdown(df)"
   ]
  },
  {
   "cell_type": "code",
   "execution_count": 8,
   "metadata": {},
   "outputs": [
    {
     "data": {
      "text/plain": [
       "0.0"
      ]
     },
     "execution_count": 8,
     "metadata": {},
     "output_type": "execute_result"
    }
   ],
   "source": [
    "calculate_portfolio_maximum_drawdown(df)"
   ]
  },
  {
   "cell_type": "code",
   "execution_count": null,
   "metadata": {},
   "outputs": [],
   "source": []
  }
 ],
 "metadata": {
  "kernelspec": {
   "display_name": "streamlit",
   "language": "python",
   "name": "python3"
  },
  "language_info": {
   "codemirror_mode": {
    "name": "ipython",
    "version": 3
   },
   "file_extension": ".py",
   "mimetype": "text/x-python",
   "name": "python",
   "nbconvert_exporter": "python",
   "pygments_lexer": "ipython3",
   "version": "3.8.16"
  },
  "orig_nbformat": 4
 },
 "nbformat": 4,
 "nbformat_minor": 2
}
