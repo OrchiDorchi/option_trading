{
 "cells": [
  {
   "cell_type": "code",
   "execution_count": 1,
   "metadata": {},
   "outputs": [],
   "source": [
    "import pandas as pd\n",
    "import yfinance as yf"
   ]
  },
  {
   "cell_type": "code",
   "execution_count": 2,
   "metadata": {},
   "outputs": [],
   "source": [
    "# data = yf.download('BTC-USD',start=\"2015-01-01\", end=\"2023-05-01\")\n",
    "data = pd.read_csv('btc_prices.csv')"
   ]
  },
  {
   "cell_type": "code",
   "execution_count": 3,
   "metadata": {},
   "outputs": [
    {
     "data": {
      "text/html": [
       "<div>\n",
       "<style scoped>\n",
       "    .dataframe tbody tr th:only-of-type {\n",
       "        vertical-align: middle;\n",
       "    }\n",
       "\n",
       "    .dataframe tbody tr th {\n",
       "        vertical-align: top;\n",
       "    }\n",
       "\n",
       "    .dataframe thead th {\n",
       "        text-align: right;\n",
       "    }\n",
       "</style>\n",
       "<table border=\"1\" class=\"dataframe\">\n",
       "  <thead>\n",
       "    <tr style=\"text-align: right;\">\n",
       "      <th></th>\n",
       "      <th>Date</th>\n",
       "      <th>Open</th>\n",
       "      <th>High</th>\n",
       "      <th>Low</th>\n",
       "      <th>Close</th>\n",
       "      <th>Adj Close</th>\n",
       "      <th>Volume</th>\n",
       "    </tr>\n",
       "  </thead>\n",
       "  <tbody>\n",
       "    <tr>\n",
       "      <th>0</th>\n",
       "      <td>2015-01-01</td>\n",
       "      <td>320.434998</td>\n",
       "      <td>320.434998</td>\n",
       "      <td>314.002991</td>\n",
       "      <td>314.248993</td>\n",
       "      <td>314.248993</td>\n",
       "      <td>8036550</td>\n",
       "    </tr>\n",
       "    <tr>\n",
       "      <th>1</th>\n",
       "      <td>2015-01-02</td>\n",
       "      <td>314.079010</td>\n",
       "      <td>315.838989</td>\n",
       "      <td>313.565002</td>\n",
       "      <td>315.032013</td>\n",
       "      <td>315.032013</td>\n",
       "      <td>7860650</td>\n",
       "    </tr>\n",
       "    <tr>\n",
       "      <th>2</th>\n",
       "      <td>2015-01-03</td>\n",
       "      <td>314.846008</td>\n",
       "      <td>315.149994</td>\n",
       "      <td>281.082001</td>\n",
       "      <td>281.082001</td>\n",
       "      <td>281.082001</td>\n",
       "      <td>33054400</td>\n",
       "    </tr>\n",
       "    <tr>\n",
       "      <th>3</th>\n",
       "      <td>2015-01-04</td>\n",
       "      <td>281.145996</td>\n",
       "      <td>287.230011</td>\n",
       "      <td>257.612000</td>\n",
       "      <td>264.195007</td>\n",
       "      <td>264.195007</td>\n",
       "      <td>55629100</td>\n",
       "    </tr>\n",
       "    <tr>\n",
       "      <th>4</th>\n",
       "      <td>2015-01-05</td>\n",
       "      <td>265.084015</td>\n",
       "      <td>278.341003</td>\n",
       "      <td>265.084015</td>\n",
       "      <td>274.473999</td>\n",
       "      <td>274.473999</td>\n",
       "      <td>43962800</td>\n",
       "    </tr>\n",
       "    <tr>\n",
       "      <th>...</th>\n",
       "      <td>...</td>\n",
       "      <td>...</td>\n",
       "      <td>...</td>\n",
       "      <td>...</td>\n",
       "      <td>...</td>\n",
       "      <td>...</td>\n",
       "      <td>...</td>\n",
       "    </tr>\n",
       "    <tr>\n",
       "      <th>3037</th>\n",
       "      <td>2023-04-26</td>\n",
       "      <td>28300.058594</td>\n",
       "      <td>29995.837891</td>\n",
       "      <td>27324.548828</td>\n",
       "      <td>28422.701172</td>\n",
       "      <td>28422.701172</td>\n",
       "      <td>31854242019</td>\n",
       "    </tr>\n",
       "    <tr>\n",
       "      <th>3038</th>\n",
       "      <td>2023-04-27</td>\n",
       "      <td>28428.464844</td>\n",
       "      <td>29871.546875</td>\n",
       "      <td>28402.886719</td>\n",
       "      <td>29473.787109</td>\n",
       "      <td>29473.787109</td>\n",
       "      <td>27153445027</td>\n",
       "    </tr>\n",
       "    <tr>\n",
       "      <th>3039</th>\n",
       "      <td>2023-04-28</td>\n",
       "      <td>29481.013672</td>\n",
       "      <td>29572.791016</td>\n",
       "      <td>28929.609375</td>\n",
       "      <td>29340.261719</td>\n",
       "      <td>29340.261719</td>\n",
       "      <td>17544464887</td>\n",
       "    </tr>\n",
       "    <tr>\n",
       "      <th>3040</th>\n",
       "      <td>2023-04-29</td>\n",
       "      <td>29336.566406</td>\n",
       "      <td>29452.455078</td>\n",
       "      <td>29088.042969</td>\n",
       "      <td>29248.488281</td>\n",
       "      <td>29248.488281</td>\n",
       "      <td>10662634333</td>\n",
       "    </tr>\n",
       "    <tr>\n",
       "      <th>3041</th>\n",
       "      <td>2023-04-30</td>\n",
       "      <td>29245.515625</td>\n",
       "      <td>29952.029297</td>\n",
       "      <td>29114.021484</td>\n",
       "      <td>29268.806641</td>\n",
       "      <td>29268.806641</td>\n",
       "      <td>14652199272</td>\n",
       "    </tr>\n",
       "  </tbody>\n",
       "</table>\n",
       "<p>3042 rows × 7 columns</p>\n",
       "</div>"
      ],
      "text/plain": [
       "            Date          Open          High           Low         Close  \\\n",
       "0     2015-01-01    320.434998    320.434998    314.002991    314.248993   \n",
       "1     2015-01-02    314.079010    315.838989    313.565002    315.032013   \n",
       "2     2015-01-03    314.846008    315.149994    281.082001    281.082001   \n",
       "3     2015-01-04    281.145996    287.230011    257.612000    264.195007   \n",
       "4     2015-01-05    265.084015    278.341003    265.084015    274.473999   \n",
       "...          ...           ...           ...           ...           ...   \n",
       "3037  2023-04-26  28300.058594  29995.837891  27324.548828  28422.701172   \n",
       "3038  2023-04-27  28428.464844  29871.546875  28402.886719  29473.787109   \n",
       "3039  2023-04-28  29481.013672  29572.791016  28929.609375  29340.261719   \n",
       "3040  2023-04-29  29336.566406  29452.455078  29088.042969  29248.488281   \n",
       "3041  2023-04-30  29245.515625  29952.029297  29114.021484  29268.806641   \n",
       "\n",
       "         Adj Close       Volume  \n",
       "0       314.248993      8036550  \n",
       "1       315.032013      7860650  \n",
       "2       281.082001     33054400  \n",
       "3       264.195007     55629100  \n",
       "4       274.473999     43962800  \n",
       "...            ...          ...  \n",
       "3037  28422.701172  31854242019  \n",
       "3038  29473.787109  27153445027  \n",
       "3039  29340.261719  17544464887  \n",
       "3040  29248.488281  10662634333  \n",
       "3041  29268.806641  14652199272  \n",
       "\n",
       "[3042 rows x 7 columns]"
      ]
     },
     "execution_count": 3,
     "metadata": {},
     "output_type": "execute_result"
    }
   ],
   "source": [
    "data"
   ]
  },
  {
   "cell_type": "code",
   "execution_count": 4,
   "metadata": {},
   "outputs": [],
   "source": [
    "data.to_csv('btc_prices.csv')"
   ]
  },
  {
   "cell_type": "code",
   "execution_count": 5,
   "metadata": {},
   "outputs": [
    {
     "data": {
      "text/plain": [
       "RangeIndex(start=0, stop=3042, step=1)"
      ]
     },
     "execution_count": 5,
     "metadata": {},
     "output_type": "execute_result"
    }
   ],
   "source": [
    "data.index"
   ]
  },
  {
   "cell_type": "code",
   "execution_count": 6,
   "metadata": {},
   "outputs": [
    {
     "data": {
      "text/plain": [
       "0         314.248993\n",
       "1         315.032013\n",
       "2         281.082001\n",
       "3         264.195007\n",
       "4         274.473999\n",
       "            ...     \n",
       "3037    28422.701172\n",
       "3038    29473.787109\n",
       "3039    29340.261719\n",
       "3040    29248.488281\n",
       "3041    29268.806641\n",
       "Name: Close, Length: 3042, dtype: float64"
      ]
     },
     "execution_count": 6,
     "metadata": {},
     "output_type": "execute_result"
    }
   ],
   "source": [
    "data['Close']"
   ]
  },
  {
   "cell_type": "code",
   "execution_count": 9,
   "metadata": {},
   "outputs": [],
   "source": [
    "data = data.set_index('Date')"
   ]
  },
  {
   "cell_type": "code",
   "execution_count": 10,
   "metadata": {},
   "outputs": [
    {
     "data": {
      "text/plain": [
       "Date\n",
       "2015-01-01      314.248993\n",
       "2015-01-02      315.032013\n",
       "2015-01-03      281.082001\n",
       "2015-01-04      264.195007\n",
       "2015-01-05      274.473999\n",
       "                  ...     \n",
       "2023-04-26    28422.701172\n",
       "2023-04-27    29473.787109\n",
       "2023-04-28    29340.261719\n",
       "2023-04-29    29248.488281\n",
       "2023-04-30    29268.806641\n",
       "Name: Close, Length: 3042, dtype: float64"
      ]
     },
     "execution_count": 10,
     "metadata": {},
     "output_type": "execute_result"
    }
   ],
   "source": [
    "data['Close']"
   ]
  },
  {
   "cell_type": "code",
   "execution_count": null,
   "metadata": {},
   "outputs": [],
   "source": []
  }
 ],
 "metadata": {
  "kernelspec": {
   "display_name": "riskoptima",
   "language": "python",
   "name": "python3"
  },
  "language_info": {
   "codemirror_mode": {
    "name": "ipython",
    "version": 3
   },
   "file_extension": ".py",
   "mimetype": "text/x-python",
   "name": "python",
   "nbconvert_exporter": "python",
   "pygments_lexer": "ipython3",
   "version": "3.9.16"
  },
  "orig_nbformat": 4
 },
 "nbformat": 4,
 "nbformat_minor": 2
}
